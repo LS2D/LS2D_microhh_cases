{
 "cells": [
  {
   "cell_type": "code",
   "execution_count": null,
   "id": "7b0c6432",
   "metadata": {},
   "outputs": [],
   "source": [
    "import matplotlib.pyplot as plt\n",
    "import xarray as xr\n",
    "import numpy as np\n",
    "\n",
    "from global_settings import vgrid, outer_dom\n"
   ]
  },
  {
   "cell_type": "code",
   "execution_count": null,
   "id": "c1b9c344",
   "metadata": {},
   "outputs": [],
   "source": [
    "thl = np.fromfile('outer/thl_ext.0000000').reshape((vgrid.kmax, outer_dom.jtot, outer_dom.itot))\n",
    "\n",
    "lbc = xr.open_dataset('outer/lbc_ds.nc', decode_times=False)"
   ]
  },
  {
   "cell_type": "code",
   "execution_count": null,
   "id": "3521160c",
   "metadata": {},
   "outputs": [],
   "source": [
    "def plot_with_bounds(x, y, fld, vmin, vmax):\n",
    "    \"\"\"\n",
    "    pcolormesh `fld` with bounds plotted on top.\n",
    "    \"\"\"\n",
    "    dx = x[1] - x[0]\n",
    "    dy = y[1] - y[0]\n",
    "\n",
    "    x0 = x[0] - dx/2.\n",
    "    x1 = x[-1] + dx/2.\n",
    "\n",
    "    y0 = y[0] - dy/2.\n",
    "    y1 = y[-1] + dy/2.\n",
    "\n",
    "    plt.pcolormesh(x, y, fld, vmin=vmin, vmax=vmax)\n",
    "    plt.plot([x0, x1, x1, x0, x0], [y0, y0, y1, y1, y0], 'w:')\n",
    "\n",
    "k = 1\n",
    "t = 0\n",
    "\n",
    "vmin = thl[k,:,:].min()\n",
    "vmax = thl[k,:,:].max()\n",
    "\n",
    "plt.figure()\n",
    "plot_with_bounds(outer_dom.x, outer_dom.y, thl[k,:,:], vmin=vmin, vmax=vmax)\n",
    "plot_with_bounds(outer_dom.x, outer_dom.y, thl[k,:,:], vmin=vmin, vmax=vmax)\n",
    "plot_with_bounds(lbc.xgw, lbc.y, lbc.thl_west[t,k,:,:], vmin=vmin, vmax=vmax)\n",
    "plot_with_bounds(lbc.xge, lbc.y, lbc.thl_east[t,k,:,:], vmin=vmin, vmax=vmax)\n",
    "plot_with_bounds(lbc.x, lbc.ygn, lbc.thl_north[t,k,:,:], vmin=vmin, vmax=vmax)\n",
    "plot_with_bounds(lbc.x, lbc.ygs, lbc.thl_south[t,k,:,:], vmin=vmin, vmax=vmax)"
   ]
  }
 ],
 "metadata": {
  "kernelspec": {
   "display_name": ".venv",
   "language": "python",
   "name": "python3"
  },
  "language_info": {
   "codemirror_mode": {
    "name": "ipython",
    "version": 3
   },
   "file_extension": ".py",
   "mimetype": "text/x-python",
   "name": "python",
   "nbconvert_exporter": "python",
   "pygments_lexer": "ipython3",
   "version": "3.9.5"
  }
 },
 "nbformat": 4,
 "nbformat_minor": 5
}
